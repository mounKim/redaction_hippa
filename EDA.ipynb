{
 "cells": [
  {
   "cell_type": "code",
   "execution_count": 4,
   "metadata": {
    "collapsed": true
   },
   "outputs": [],
   "source": [
    "import os\n",
    "import xml.etree.ElementTree as elemTree"
   ]
  },
  {
   "cell_type": "code",
   "execution_count": 42,
   "outputs": [
    {
     "data": {
      "text/plain": "[('DATE', 7502),\n ('DOCTOR', 2885),\n ('HOSPITAL', 1437),\n ('PATIENT', 1316),\n ('AGE', 1233),\n ('MEDICALRECORD', 611),\n ('CITY', 394),\n ('STATE', 314),\n ('PHONE', 309),\n ('USERNAME', 264),\n ('IDNUM', 261),\n ('PROFESSION', 234),\n ('STREET', 216),\n ('ZIP', 212),\n ('ORGANIZATION', 124),\n ('COUNTRY', 66),\n ('FAX', 8),\n ('DEVICE', 7),\n ('EMAIL', 4),\n ('LOCATION-OTHER', 4),\n ('URL', 2),\n ('BIOID', 1),\n ('HEALTHPLAN', 1)]"
     },
     "execution_count": 42,
     "metadata": {},
     "output_type": "execute_result"
    }
   ],
   "source": [
    "path = './data/i2b2-2014/train'\n",
    "dic = {}\n",
    "\n",
    "for data in os.listdir(path):\n",
    "    tree = elemTree.parse(os.path.join(path, data))\n",
    "    for tag in tree.findall('TAGS')[0]:\n",
    "        tmp = tag.get('TYPE')\n",
    "        if tmp in dic.keys():\n",
    "            dic[tmp] += 1\n",
    "        else:\n",
    "            dic[tmp] = 1\n",
    "\n",
    "sorted(dic.items(), key=lambda item: item[1], reverse=True)"
   ],
   "metadata": {
    "collapsed": false,
    "pycharm": {
     "name": "#%%\n"
    }
   }
  }
 ],
 "metadata": {
  "kernelspec": {
   "display_name": "Python 3",
   "language": "python",
   "name": "python3"
  },
  "language_info": {
   "codemirror_mode": {
    "name": "ipython",
    "version": 2
   },
   "file_extension": ".py",
   "mimetype": "text/x-python",
   "name": "python",
   "nbconvert_exporter": "python",
   "pygments_lexer": "ipython2",
   "version": "2.7.6"
  }
 },
 "nbformat": 4,
 "nbformat_minor": 0
}